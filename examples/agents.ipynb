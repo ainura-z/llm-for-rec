{
 "cells": [
  {
   "cell_type": "markdown",
   "metadata": {},
   "source": [
    "# Example of Using Agent System"
   ]
  },
  {
   "cell_type": "code",
   "execution_count": 1,
   "metadata": {},
   "outputs": [
    {
     "name": "stdout",
     "output_type": "stream",
     "text": [
      "/Users/ainura/studies/thesis/llm-for-rec\n"
     ]
    }
   ],
   "source": [
    "%cd \"/Users/ainura/studies/thesis/llm-for-rec\"\n",
    "repo_path = \"/Users/ainura/studies/thesis/llm-for-rec\""
   ]
  },
  {
   "cell_type": "markdown",
   "metadata": {},
   "source": [
    "Reading api keys"
   ]
  },
  {
   "cell_type": "code",
   "execution_count": 2,
   "metadata": {},
   "outputs": [
    {
     "data": {
      "text/plain": [
       "True"
      ]
     },
     "execution_count": 2,
     "metadata": {},
     "output_type": "execute_result"
    }
   ],
   "source": [
    "from dotenv import load_dotenv\n",
    "\n",
    "load_dotenv(repo_path + \"/api_keys.env\")"
   ]
  },
  {
   "cell_type": "markdown",
   "metadata": {},
   "source": [
    "## Install requirements"
   ]
  },
  {
   "cell_type": "code",
   "execution_count": null,
   "metadata": {},
   "outputs": [
    {
     "name": "stdout",
     "output_type": "stream",
     "text": [
      "\u001b[2K     \u001b[90m━━━━━━━━━━━━━━━━━━━━━━━━━━━━━━━━━━━━━━━━\u001b[0m \u001b[32m812.8/812.8 kB\u001b[0m \u001b[31m8.0 MB/s\u001b[0m eta \u001b[36m0:00:00\u001b[0m\n",
      "\u001b[2K     \u001b[90m━━━━━━━━━━━━━━━━━━━━━━━━━━━━━━━━━━━━━━━━\u001b[0m \u001b[32m27.0/27.0 MB\u001b[0m \u001b[31m38.0 MB/s\u001b[0m eta \u001b[36m0:00:00\u001b[0m\n",
      "\u001b[2K     \u001b[90m━━━━━━━━━━━━━━━━━━━━━━━━━━━━━━━━━━━━━━━━\u001b[0m \u001b[32m85.5/85.5 MB\u001b[0m \u001b[31m8.3 MB/s\u001b[0m eta \u001b[36m0:00:00\u001b[0m\n",
      "\u001b[2K     \u001b[90m━━━━━━━━━━━━━━━━━━━━━━━━━━━━━━━━━━━━━━━━\u001b[0m \u001b[32m266.9/266.9 kB\u001b[0m \u001b[31m24.4 MB/s\u001b[0m eta \u001b[36m0:00:00\u001b[0m\n",
      "\u001b[2K     \u001b[90m━━━━━━━━━━━━━━━━━━━━━━━━━━━━━━━━━━━━━━━━\u001b[0m \u001b[32m1.8/1.8 MB\u001b[0m \u001b[31m72.2 MB/s\u001b[0m eta \u001b[36m0:00:00\u001b[0m\n",
      "\u001b[2K     \u001b[90m━━━━━━━━━━━━━━━━━━━━━━━━━━━━━━━━━━━━━━━━\u001b[0m \u001b[32m2.1/2.1 MB\u001b[0m \u001b[31m73.0 MB/s\u001b[0m eta \u001b[36m0:00:00\u001b[0m\n",
      "\u001b[2K     \u001b[90m━━━━━━━━━━━━━━━━━━━━━━━━━━━━━━━━━━━━━━━━\u001b[0m \u001b[32m163.3/163.3 kB\u001b[0m \u001b[31m15.1 MB/s\u001b[0m eta \u001b[36m0:00:00\u001b[0m\n",
      "\u001b[2K     \u001b[90m━━━━━━━━━━━━━━━━━━━━━━━━━━━━━━━━━━━━━━━━\u001b[0m \u001b[32m1.9/1.9 MB\u001b[0m \u001b[31m67.0 MB/s\u001b[0m eta \u001b[36m0:00:00\u001b[0m\n",
      "\u001b[2K     \u001b[90m━━━━━━━━━━━━━━━━━━━━━━━━━━━━━━━━━━━━━━━━\u001b[0m \u001b[32m276.6/276.6 kB\u001b[0m \u001b[31m24.6 MB/s\u001b[0m eta \u001b[36m0:00:00\u001b[0m\n",
      "\u001b[2K     \u001b[90m━━━━━━━━━━━━━━━━━━━━━━━━━━━━━━━━━━━━━━━━\u001b[0m \u001b[32m87.5/87.5 kB\u001b[0m \u001b[31m9.5 MB/s\u001b[0m eta \u001b[36m0:00:00\u001b[0m\n",
      "\u001b[2K     \u001b[90m━━━━━━━━━━━━━━━━━━━━━━━━━━━━━━━━━━━━━━━━\u001b[0m \u001b[32m75.6/75.6 kB\u001b[0m \u001b[31m9.0 MB/s\u001b[0m eta \u001b[36m0:00:00\u001b[0m\n",
      "\u001b[2K     \u001b[90m━━━━━━━━━━━━━━━━━━━━━━━━━━━━━━━━━━━━━━━━\u001b[0m \u001b[32m49.4/49.4 kB\u001b[0m \u001b[31m5.3 MB/s\u001b[0m eta \u001b[36m0:00:00\u001b[0m\n",
      "\u001b[2K     \u001b[90m━━━━━━━━━━━━━━━━━━━━━━━━━━━━━━━━━━━━━━━━\u001b[0m \u001b[32m77.9/77.9 kB\u001b[0m \u001b[31m6.9 MB/s\u001b[0m eta \u001b[36m0:00:00\u001b[0m\n",
      "\u001b[2K     \u001b[90m━━━━━━━━━━━━━━━━━━━━━━━━━━━━━━━━━━━━━━━━\u001b[0m \u001b[32m58.3/58.3 kB\u001b[0m \u001b[31m5.3 MB/s\u001b[0m eta \u001b[36m0:00:00\u001b[0m\n",
      "\u001b[2K     \u001b[90m━━━━━━━━━━━━━━━━━━━━━━━━━━━━━━━━━━━━━━━━\u001b[0m \u001b[32m53.0/53.0 kB\u001b[0m \u001b[31m4.7 MB/s\u001b[0m eta \u001b[36m0:00:00\u001b[0m\n",
      "\u001b[2K     \u001b[90m━━━━━━━━━━━━━━━━━━━━━━━━━━━━━━━━━━━━━━━━\u001b[0m \u001b[32m144.8/144.8 kB\u001b[0m \u001b[31m12.3 MB/s\u001b[0m eta \u001b[36m0:00:00\u001b[0m\n",
      "\u001b[2K     \u001b[90m━━━━━━━━━━━━━━━━━━━━━━━━━━━━━━━━━━━━━━━━\u001b[0m \u001b[32m23.7/23.7 MB\u001b[0m \u001b[31m56.5 MB/s\u001b[0m eta \u001b[36m0:00:00\u001b[0m\n",
      "\u001b[2K     \u001b[90m━━━━━━━━━━━━━━━━━━━━━━━━━━━━━━━━━━━━━━━━\u001b[0m \u001b[32m823.6/823.6 kB\u001b[0m \u001b[31m47.1 MB/s\u001b[0m eta \u001b[36m0:00:00\u001b[0m\n",
      "\u001b[2K     \u001b[90m━━━━━━━━━━━━━━━━━━━━━━━━━━━━━━━━━━━━━━━━\u001b[0m \u001b[32m14.1/14.1 MB\u001b[0m \u001b[31m82.4 MB/s\u001b[0m eta \u001b[36m0:00:00\u001b[0m\n",
      "\u001b[2K     \u001b[90m━━━━━━━━━━━━━━━━━━━━━━━━━━━━━━━━━━━━━━━━\u001b[0m \u001b[32m731.7/731.7 MB\u001b[0m \u001b[31m1.6 MB/s\u001b[0m eta \u001b[36m0:00:00\u001b[0m\n",
      "\u001b[2K     \u001b[90m━━━━━━━━━━━━━━━━━━━━━━━━━━━━━━━━━━━━━━━━\u001b[0m \u001b[32m410.6/410.6 MB\u001b[0m \u001b[31m2.8 MB/s\u001b[0m eta \u001b[36m0:00:00\u001b[0m\n",
      "\u001b[2K     \u001b[90m━━━━━━━━━━━━━━━━━━━━━━━━━━━━━━━━━━━━━━━━\u001b[0m \u001b[32m121.6/121.6 MB\u001b[0m \u001b[31m8.3 MB/s\u001b[0m eta \u001b[36m0:00:00\u001b[0m\n",
      "\u001b[2K     \u001b[90m━━━━━━━━━━━━━━━━━━━━━━━━━━━━━━━━━━━━━━━━\u001b[0m \u001b[32m56.5/56.5 MB\u001b[0m \u001b[31m9.9 MB/s\u001b[0m eta \u001b[36m0:00:00\u001b[0m\n",
      "\u001b[2K     \u001b[90m━━━━━━━━━━━━━━━━━━━━━━━━━━━━━━━━━━━━━━━━\u001b[0m \u001b[32m124.2/124.2 MB\u001b[0m \u001b[31m8.1 MB/s\u001b[0m eta \u001b[36m0:00:00\u001b[0m\n",
      "\u001b[2K     \u001b[90m━━━━━━━━━━━━━━━━━━━━━━━━━━━━━━━━━━━━━━━━\u001b[0m \u001b[32m196.0/196.0 MB\u001b[0m \u001b[31m5.1 MB/s\u001b[0m eta \u001b[36m0:00:00\u001b[0m\n",
      "\u001b[2K     \u001b[90m━━━━━━━━━━━━━━━━━━━━━━━━━━━━━━━━━━━━━━━━\u001b[0m \u001b[32m166.0/166.0 MB\u001b[0m \u001b[31m6.5 MB/s\u001b[0m eta \u001b[36m0:00:00\u001b[0m\n",
      "\u001b[2K     \u001b[90m━━━━━━━━━━━━━━━━━━━━━━━━━━━━━━━━━━━━━━━━\u001b[0m \u001b[32m99.1/99.1 kB\u001b[0m \u001b[31m9.7 MB/s\u001b[0m eta \u001b[36m0:00:00\u001b[0m\n",
      "\u001b[2K     \u001b[90m━━━━━━━━━━━━━━━━━━━━━━━━━━━━━━━━━━━━━━━━\u001b[0m \u001b[32m21.1/21.1 MB\u001b[0m \u001b[31m62.4 MB/s\u001b[0m eta \u001b[36m0:00:00\u001b[0m\n",
      "\u001b[?25h"
     ]
    }
   ],
   "source": [
    "!pip install -q -r '{repo_path}/requirements/requirements.txt'"
   ]
  },
  {
   "cell_type": "markdown",
   "metadata": {},
   "source": [
    "## Add config"
   ]
  },
  {
   "cell_type": "code",
   "execution_count": 3,
   "metadata": {},
   "outputs": [],
   "source": [
    "import os\n",
    "\n",
    "config_dict = {\n",
    "    \"csv_args\": {\"delimiter\": \"\\t\"},\n",
    "    \"source_column\": \"item_id:token\",\n",
    "    \"search_kwargs\": {\"k\": 20},\n",
    "    \"data_path\": os.path.join(repo_path, \"datasets\"),\n",
    "    \"load_col\": {\n",
    "        \"inter\": [\"user_id\", \"item_id\", \"rating\", \"timestamp\"],\n",
    "        \"item\": [\"item_id\", \"movie_title\"],\n",
    "    },\n",
    "    \"text_col\": [\"movie_title\", \"release_year\", \"class\"],\n",
    "    \"MAX_ITEM_LIST_LENGTH\": 10,\n",
    "    \"eval_args\": {\"split\": {\"LS\": \"valid_and_test\"}, \"order\": \"TO\", \"mode\": \"full\"},\n",
    "    \"repeatable\": True,\n",
    "    \"loss_type\": \"CE\",\n",
    "    \"train_batch_size\": 100,\n",
    "    \"eval_batch_size\": 8,\n",
    "    \"valid_metric\": \"NDCG@10\",\n",
    "    \"metrics\": [\"Recall\", \"NDCG\"],\n",
    "    \"topk\": [1, 20, 50, 100, 200],\n",
    "    \"train_neg_sample_args\": None,\n",
    "    \"threshold_rating\": 0.5,\n",
    "}"
   ]
  },
  {
   "cell_type": "markdown",
   "metadata": {},
   "source": [
    "## Get dataset and config"
   ]
  },
  {
   "cell_type": "code",
   "execution_count": 4,
   "metadata": {},
   "outputs": [
    {
     "name": "stderr",
     "output_type": "stream",
     "text": [
      "/Users/ainura/miniconda3/envs/thesis/lib/python3.12/site-packages/recbole/data/dataset/dataset.py:501: FutureWarning: A value is trying to be set on a copy of a DataFrame or Series through chained assignment using an inplace method.\n",
      "The behavior will change in pandas 3.0. This inplace method will never work because the intermediate object on which we are setting values always behaves as a copy.\n",
      "\n",
      "For example, when doing 'df[col].method(value, inplace=True)', try using 'df.method({col: value}, inplace=True)' or df[col] = df[col].method(value) instead, to perform the operation inplace on the original object.\n",
      "\n",
      "\n",
      "  df[field].fillna(value=\"\", inplace=True)\n",
      "/Users/ainura/miniconda3/envs/thesis/lib/python3.12/site-packages/recbole/data/dataset/dataset.py:1217: FutureWarning: using <built-in function len> in Series.agg cannot aggregate and has been deprecated. Use Series.transform to keep behavior unchanged.\n",
      "  split_point = np.cumsum(feat[field].agg(len))[:-1]\n",
      "/Users/ainura/miniconda3/envs/thesis/lib/python3.12/site-packages/recbole/data/dataset/dataset.py:648: FutureWarning: A value is trying to be set on a copy of a DataFrame or Series through chained assignment using an inplace method.\n",
      "The behavior will change in pandas 3.0. This inplace method will never work because the intermediate object on which we are setting values always behaves as a copy.\n",
      "\n",
      "For example, when doing 'df[col].method(value, inplace=True)', try using 'df.method({col: value}, inplace=True)' or df[col] = df[col].method(value) instead, to perform the operation inplace on the original object.\n",
      "\n",
      "\n",
      "  feat[field].fillna(value=0, inplace=True)\n",
      "/Users/ainura/miniconda3/envs/thesis/lib/python3.12/site-packages/recbole/data/dataset/dataset.py:650: FutureWarning: A value is trying to be set on a copy of a DataFrame or Series through chained assignment using an inplace method.\n",
      "The behavior will change in pandas 3.0. This inplace method will never work because the intermediate object on which we are setting values always behaves as a copy.\n",
      "\n",
      "For example, when doing 'df[col].method(value, inplace=True)', try using 'df.method({col: value}, inplace=True)' or df[col] = df[col].method(value) instead, to perform the operation inplace on the original object.\n",
      "\n",
      "\n",
      "  feat[field].fillna(value=feat[field].mean(), inplace=True)\n"
     ]
    }
   ],
   "source": [
    "from llm4rec.tasks import RecBoleRetrievalRecommender\n",
    "from llm4rec.dataset import RecboleSeqDataset\n",
    "from recbole.data.utils import data_preparation\n",
    "from recbole.config import Config\n",
    "from recbole.model.abstract_recommender import AbstractRecommender\n",
    "import torch\n",
    "\n",
    "model_cls = RecBoleRetrievalRecommender\n",
    "dataset_name = 'ml-100k'\n",
    "\n",
    "config = Config(model=model_cls, dataset=dataset_name,\n",
    "            config_dict=config_dict)\n",
    "\n",
    "dataset = RecboleSeqDataset(config)\n",
    "_, _, test_data = data_preparation(config, dataset)"
   ]
  },
  {
   "cell_type": "markdown",
   "metadata": {},
   "source": [
    "## Let's take first user"
   ]
  },
  {
   "cell_type": "markdown",
   "metadata": {},
   "source": [
    "Getting batch and taking 1 interaction in that batch"
   ]
  },
  {
   "cell_type": "code",
   "execution_count": 5,
   "metadata": {},
   "outputs": [],
   "source": [
    "i=0\n",
    "batch = next(iter(test_data))\n",
    "user = batch[0][i]\n",
    "history_length = user['item_length']\n",
    "history_names = test_data.dataset.item_id2text(user['item_id_list'][:history_length])\n",
    "history_item_ids = test_data.dataset.id2token(\"item_id\", user['item_id_list'][:history_length])\n",
    "prev_interactions = dict(zip(history_item_ids, history_names))"
   ]
  },
  {
   "cell_type": "markdown",
   "metadata": {},
   "source": [
    "Initializing the retreival model"
   ]
  },
  {
   "cell_type": "code",
   "execution_count": 6,
   "metadata": {},
   "outputs": [
    {
     "name": "stderr",
     "output_type": "stream",
     "text": [
      "/Users/ainura/miniconda3/envs/thesis/lib/python3.12/site-packages/tqdm/auto.py:21: TqdmWarning: IProgress not found. Please update jupyter and ipywidgets. See https://ipywidgets.readthedocs.io/en/stable/user_install.html\n",
      "  from .autonotebook import tqdm as notebook_tqdm\n",
      "/Users/ainura/miniconda3/envs/thesis/lib/python3.12/site-packages/huggingface_hub/file_download.py:1132: FutureWarning: `resume_download` is deprecated and will be removed in version 1.0.0. Downloads always resume when possible. If you want to force a new download, use `force_download=True`.\n",
      "  warnings.warn(\n"
     ]
    }
   ],
   "source": [
    "retrieval_model = RecBoleRetrievalRecommender(config=config,\n",
    "                                             dataset=dataset,\n",
    "                                             items_info_path=os.path.join(config['data_path'], f'{dataset_name}.item'),\n",
    "                                             csv_loader_args=dict(csv_args=config['csv_args'],\n",
    "                                                                  source_column=config['source_column']),\n",
    "                                             search_kwargs=config['search_kwargs'],\n",
    "                                             search_type='similarity',\n",
    "                                             emb_model_kwargs={\"device\":\"cuda:0\" if torch.cuda.is_available() else \"cpu\"})"
   ]
  },
  {
   "cell_type": "markdown",
   "metadata": {},
   "source": [
    "### Initializing the models for Ranker tool"
   ]
  },
  {
   "cell_type": "code",
   "execution_count": 7,
   "metadata": {},
   "outputs": [],
   "source": [
    "from langchain_groq import ChatGroq\n",
    "\n",
    "\n",
    "ranker_model = ChatGroq(model_name=\"llama3-70b-8192\", temperature=0) "
   ]
  },
  {
   "cell_type": "markdown",
   "metadata": {},
   "source": [
    "### Creation of tools from the tasks"
   ]
  },
  {
   "cell_type": "code",
   "execution_count": 8,
   "metadata": {},
   "outputs": [],
   "source": [
    "from llm4rec.tasks import RankerRecommender\n",
    "from llm4rec.tools import create_retrieval_tool, create_dataset_item_dict_info_tool, create_ranking_tool\n",
    "\n",
    "\n",
    "retrieval_tool = create_retrieval_tool(retrieval=retrieval_model)\n",
    "\n",
    "dataset_info_dict_tool = create_dataset_item_dict_info_tool(test_data.dataset)\n",
    "\n",
    "ranker = RankerRecommender(llm = ranker_model)\n",
    "ranker_tool = create_ranking_tool(ranker=ranker)"
   ]
  },
  {
   "cell_type": "markdown",
   "metadata": {},
   "source": [
    "### Initializing models for agents"
   ]
  },
  {
   "cell_type": "code",
   "execution_count": 9,
   "metadata": {},
   "outputs": [],
   "source": [
    "agent_executor_model = ChatGroq(model_name=\"llama3-70b-8192\", temperature=0) \n",
    "planning_model = ChatGroq(model_name=\"llama3-70b-8192\", temperature=0) \n",
    "reflection_model = ChatGroq(model_name=\"llama3-70b-8192\", temperature=0) "
   ]
  },
  {
   "cell_type": "markdown",
   "metadata": {},
   "source": [
    "# Simple Agent"
   ]
  },
  {
   "cell_type": "code",
   "execution_count": 10,
   "metadata": {},
   "outputs": [],
   "source": [
    "from llm4rec.agents import SimpleAgent\n",
    "\n",
    "\n",
    "agent = SimpleAgent(tools=[retrieval_tool], llm_executor=agent_executor_model) "
   ]
  },
  {
   "cell_type": "code",
   "execution_count": 11,
   "metadata": {},
   "outputs": [
    {
     "name": "stdout",
     "output_type": "stream",
     "text": [
      "\n",
      "\n",
      "\u001b[1m> Entering new AgentExecutor chain...\u001b[0m\n"
     ]
    },
    {
     "name": "stderr",
     "output_type": "stream",
     "text": [
      "huggingface/tokenizers: The current process just got forked, after parallelism has already been used. Disabling parallelism to avoid deadlocks...\n",
      "To disable this warning, you can either:\n",
      "\t- Avoid using `tokenizers` before the fork if possible\n",
      "\t- Explicitly set the environment variable TOKENIZERS_PARALLELISM=(true | false)\n",
      "huggingface/tokenizers: The current process just got forked, after parallelism has already been used. Disabling parallelism to avoid deadlocks...\n",
      "To disable this warning, you can either:\n",
      "\t- Avoid using `tokenizers` before the fork if possible\n",
      "\t- Explicitly set the environment variable TOKENIZERS_PARALLELISM=(true | false)\n"
     ]
    },
    {
     "name": "stdout",
     "output_type": "stream",
     "text": [
      "\u001b[32;1m\u001b[1;3m\n",
      "Invoking: `retrieval_recommender` with `{'prev_interactions': {'172': 'movie_title: Empire Strikes Back, The; release_year: 1980; class: Action Adventure Drama Romance Sci-Fi War', '762': 'movie_title: Beautiful Girls; release_year: 1996; class: Drama', '235': 'movie_title: Mars Attacks!; release_year: 1996; class: Action Comedy Sci-Fi War', '546': 'movie_title: Broken Arrow; release_year: 1996; class: Action Thriller', '750': 'movie_title: Amistad; release_year: 1997; class: Drama', '147': 'movie_title: Long Kiss Goodnight, The; release_year: 1996; class: Action Thriller', '781': 'movie_title: French Kiss; release_year: 1995; class: Comedy Romance', '484': 'movie_title: Maltese Falcon, The; release_year: 1941; class: Film-Noir Mystery', '959': 'movie_title: Dazed and Confused; release_year: 1993; class: Comedy', '39': 'movie_title: Strange Days; release_year: 1995; class: Action Crime Sci-Fi'}, 'user_profile': 'User Profile', 'top_k': 20}`\n",
      "\n",
      "\n",
      "\u001b[0m\u001b[36;1m\u001b[1;3m['1378', '775', '265', '1649', '1101', '643', '152', '1241', '344', '1320', '212', '345', '257', '852', '1611', '1644', '1115', '264', '1237', '1197']\u001b[0m"
     ]
    },
    {
     "name": "stderr",
     "output_type": "stream",
     "text": [
      "/Users/ainura/miniconda3/envs/thesis/lib/python3.12/site-packages/langchain_core/_api/deprecation.py:119: LangChainDeprecationWarning: The method `BaseRetriever.get_relevant_documents` was deprecated in langchain-core 0.1.46 and will be removed in 0.3.0. Use invoke instead.\n",
      "  warn_deprecated(\n"
     ]
    },
    {
     "name": "stdout",
     "output_type": "stream",
     "text": [
      "\u001b[32;1m\u001b[1;3mHere are the recommended items for the user:\n",
      "\n",
      "1. Item 1378\n",
      "2. Item 775\n",
      "3. Item 265\n",
      "4. Item 1649\n",
      "5. Item 1101\n",
      "6. Item 643\n",
      "7. Item 152\n",
      "8. Item 1241\n",
      "9. Item 344\n",
      "10. Item 1320\n",
      "11. Item 212\n",
      "12. Item 345\n",
      "13. Item 257\n",
      "14. Item 852\n",
      "15. Item 1611\n",
      "16. Item 1644\n",
      "17. Item 1115\n",
      "18. Item 264\n",
      "19. Item 1237\n",
      "20. Item 1197\u001b[0m\n",
      "\n",
      "\u001b[1m> Finished chain.\u001b[0m\n"
     ]
    },
    {
     "data": {
      "text/plain": [
       "{'input': \"Task: User . This User has previous interactions with these items: {'172': 'movie_title: Empire Strikes Back, The; release_year: 1980; class: Action Adventure Drama Romance Sci-Fi War', '762': 'movie_title: Beautiful Girls; release_year: 1996; class: Drama', '235': 'movie_title: Mars Attacks!; release_year: 1996; class: Action Comedy Sci-Fi War', '546': 'movie_title: Broken Arrow; release_year: 1996; class: Action Thriller', '750': 'movie_title: Amistad; release_year: 1997; class: Drama', '147': 'movie_title: Long Kiss Goodnight, The; release_year: 1996; class: Action Thriller', '781': 'movie_title: French Kiss; release_year: 1995; class: Comedy Romance', '484': 'movie_title: Maltese Falcon, The; release_year: 1941; class: Film-Noir Mystery', '959': 'movie_title: Dazed and Confused; release_year: 1993; class: Comedy', '39': 'movie_title: Strange Days; release_year: 1995; class: Action Crime Sci-Fi'}. Please give 20 candidate items recommendations for this user considering his preferences.\",\n",
       " 'output': 'Here are the recommended items for the user:\\n\\n1. Item 1378\\n2. Item 775\\n3. Item 265\\n4. Item 1649\\n5. Item 1101\\n6. Item 643\\n7. Item 152\\n8. Item 1241\\n9. Item 344\\n10. Item 1320\\n11. Item 212\\n12. Item 345\\n13. Item 257\\n14. Item 852\\n15. Item 1611\\n16. Item 1644\\n17. Item 1115\\n18. Item 264\\n19. Item 1237\\n20. Item 1197',\n",
       " 'intermediate_steps': [(ToolAgentAction(tool='retrieval_recommender', tool_input={'prev_interactions': {'172': 'movie_title: Empire Strikes Back, The; release_year: 1980; class: Action Adventure Drama Romance Sci-Fi War', '762': 'movie_title: Beautiful Girls; release_year: 1996; class: Drama', '235': 'movie_title: Mars Attacks!; release_year: 1996; class: Action Comedy Sci-Fi War', '546': 'movie_title: Broken Arrow; release_year: 1996; class: Action Thriller', '750': 'movie_title: Amistad; release_year: 1997; class: Drama', '147': 'movie_title: Long Kiss Goodnight, The; release_year: 1996; class: Action Thriller', '781': 'movie_title: French Kiss; release_year: 1995; class: Comedy Romance', '484': 'movie_title: Maltese Falcon, The; release_year: 1941; class: Film-Noir Mystery', '959': 'movie_title: Dazed and Confused; release_year: 1993; class: Comedy', '39': 'movie_title: Strange Days; release_year: 1995; class: Action Crime Sci-Fi'}, 'user_profile': 'User Profile', 'top_k': 20}, log=\"\\nInvoking: `retrieval_recommender` with `{'prev_interactions': {'172': 'movie_title: Empire Strikes Back, The; release_year: 1980; class: Action Adventure Drama Romance Sci-Fi War', '762': 'movie_title: Beautiful Girls; release_year: 1996; class: Drama', '235': 'movie_title: Mars Attacks!; release_year: 1996; class: Action Comedy Sci-Fi War', '546': 'movie_title: Broken Arrow; release_year: 1996; class: Action Thriller', '750': 'movie_title: Amistad; release_year: 1997; class: Drama', '147': 'movie_title: Long Kiss Goodnight, The; release_year: 1996; class: Action Thriller', '781': 'movie_title: French Kiss; release_year: 1995; class: Comedy Romance', '484': 'movie_title: Maltese Falcon, The; release_year: 1941; class: Film-Noir Mystery', '959': 'movie_title: Dazed and Confused; release_year: 1993; class: Comedy', '39': 'movie_title: Strange Days; release_year: 1995; class: Action Crime Sci-Fi'}, 'user_profile': 'User Profile', 'top_k': 20}`\\n\\n\\n\", message_log=[AIMessageChunk(content='', additional_kwargs={'tool_calls': [{'id': 'call_3eqz', 'function': {'arguments': '{\"prev_interactions\":{\"172\":\"movie_title: Empire Strikes Back, The; release_year: 1980; class: Action Adventure Drama Romance Sci-Fi War\",\"762\":\"movie_title: Beautiful Girls; release_year: 1996; class: Drama\",\"235\":\"movie_title: Mars Attacks!; release_year: 1996; class: Action Comedy Sci-Fi War\",\"546\":\"movie_title: Broken Arrow; release_year: 1996; class: Action Thriller\",\"750\":\"movie_title: Amistad; release_year: 1997; class: Drama\",\"147\":\"movie_title: Long Kiss Goodnight, The; release_year: 1996; class: Action Thriller\",\"781\":\"movie_title: French Kiss; release_year: 1995; class: Comedy Romance\",\"484\":\"movie_title: Maltese Falcon, The; release_year: 1941; class: Film-Noir Mystery\",\"959\":\"movie_title: Dazed and Confused; release_year: 1993; class: Comedy\",\"39\":\"movie_title: Strange Days; release_year: 1995; class: Action Crime Sci-Fi\"},\"user_profile\":\"User Profile\",\"top_k\":20}', 'name': 'retrieval_recommender'}, 'type': 'function'}]}, response_metadata={'finish_reason': 'tool_calls', 'logprobs': None}, id='run-640bd0b5-44c4-4ba2-a621-648247945f5d', tool_calls=[{'name': 'retrieval_recommender', 'args': {'prev_interactions': {'172': 'movie_title: Empire Strikes Back, The; release_year: 1980; class: Action Adventure Drama Romance Sci-Fi War', '762': 'movie_title: Beautiful Girls; release_year: 1996; class: Drama', '235': 'movie_title: Mars Attacks!; release_year: 1996; class: Action Comedy Sci-Fi War', '546': 'movie_title: Broken Arrow; release_year: 1996; class: Action Thriller', '750': 'movie_title: Amistad; release_year: 1997; class: Drama', '147': 'movie_title: Long Kiss Goodnight, The; release_year: 1996; class: Action Thriller', '781': 'movie_title: French Kiss; release_year: 1995; class: Comedy Romance', '484': 'movie_title: Maltese Falcon, The; release_year: 1941; class: Film-Noir Mystery', '959': 'movie_title: Dazed and Confused; release_year: 1993; class: Comedy', '39': 'movie_title: Strange Days; release_year: 1995; class: Action Crime Sci-Fi'}, 'user_profile': 'User Profile', 'top_k': 20}, 'id': 'call_3eqz'}], tool_call_chunks=[{'name': 'retrieval_recommender', 'args': '{\"prev_interactions\":{\"172\":\"movie_title: Empire Strikes Back, The; release_year: 1980; class: Action Adventure Drama Romance Sci-Fi War\",\"762\":\"movie_title: Beautiful Girls; release_year: 1996; class: Drama\",\"235\":\"movie_title: Mars Attacks!; release_year: 1996; class: Action Comedy Sci-Fi War\",\"546\":\"movie_title: Broken Arrow; release_year: 1996; class: Action Thriller\",\"750\":\"movie_title: Amistad; release_year: 1997; class: Drama\",\"147\":\"movie_title: Long Kiss Goodnight, The; release_year: 1996; class: Action Thriller\",\"781\":\"movie_title: French Kiss; release_year: 1995; class: Comedy Romance\",\"484\":\"movie_title: Maltese Falcon, The; release_year: 1941; class: Film-Noir Mystery\",\"959\":\"movie_title: Dazed and Confused; release_year: 1993; class: Comedy\",\"39\":\"movie_title: Strange Days; release_year: 1995; class: Action Crime Sci-Fi\"},\"user_profile\":\"User Profile\",\"top_k\":20}', 'id': 'call_3eqz', 'index': None}])], tool_call_id='call_3eqz'),\n",
       "   ['1378',\n",
       "    '775',\n",
       "    '265',\n",
       "    '1649',\n",
       "    '1101',\n",
       "    '643',\n",
       "    '152',\n",
       "    '1241',\n",
       "    '344',\n",
       "    '1320',\n",
       "    '212',\n",
       "    '345',\n",
       "    '257',\n",
       "    '852',\n",
       "    '1611',\n",
       "    '1644',\n",
       "    '1115',\n",
       "    '264',\n",
       "    '1237',\n",
       "    '1197'])]}"
      ]
     },
     "execution_count": 11,
     "metadata": {},
     "output_type": "execute_result"
    }
   ],
   "source": [
    "agent.recommend(user_profile=\"\", prev_interactions=prev_interactions, top_k=config['search_kwargs']['k'])"
   ]
  },
  {
   "cell_type": "markdown",
   "metadata": {},
   "source": [
    "# Plan-and-Execute Agent"
   ]
  },
  {
   "cell_type": "code",
   "execution_count": 10,
   "metadata": {},
   "outputs": [],
   "source": [
    "from llm4rec.agents import PlanExecuteAgent\n",
    "\n",
    "\n",
    "agent_plan_execute = PlanExecuteAgent(tools=[retrieval_tool, ranker_tool, dataset_info_dict_tool], \n",
    "                                      llm_executor=agent_executor_model,\n",
    "                                      llm_for_planning=planning_model,\n",
    "                                      llm_for_reflection=reflection_model) "
   ]
  },
  {
   "cell_type": "code",
   "execution_count": 13,
   "metadata": {},
   "outputs": [
    {
     "name": "stdout",
     "output_type": "stream",
     "text": [
      "\n",
      "\n",
      "\u001b[1m> Entering new AgentExecutor chain...\u001b[0m\n",
      "\u001b[32;1m\u001b[1;3m\n",
      "Invoking: `retrieval_recommender` with `{'prev_interactions': {'172': 'movie_title: Empire Strikes Back, The; release_year: 1980; class: Action Adventure Drama Romance Sci-Fi War', '762': 'movie_title: Beautiful Girls; release_year: 1996; class: Drama', '235': 'movie_title: Mars Attacks!; release_year: 1996; class: Action Comedy Sci-Fi War', '546': 'movie_title: Broken Arrow; release_year: 1996; class: Action Thriller', '750': 'movie_title: Amistad; release_year: 1997; class: Drama', '147': 'movie_title: Long Kiss Goodnight, The; release_year: 1996; class: Action Thriller', '781': 'movie_title: French Kiss; release_year: 1995; class: Comedy Romance', '484': 'movie_title: Maltese Falcon, The; release_year: 1941; class: Film-Noir Mystery', '959': 'movie_title: Dazed and Confused; release_year: 1993; class: Comedy', '39': 'movie_title: Strange Days; release_year: 1995; class: Action Crime Sci-Fi'}, 'user_profile': 'User Profile', 'top_k': 20}`\n",
      "\n",
      "\n",
      "\u001b[0m\u001b[36;1m\u001b[1;3m['1378', '775', '265', '1649', '1101', '643', '152', '1241', '344', '1320', '212', '345', '257', '852', '1611', '1644', '1115', '264', '1237', '1197']\u001b[0m\u001b[32;1m\u001b[1;3m\n",
      "Invoking: `item_dataset_pair_info` with `{'item_id_list': ['1378', '775', '265', '1649', '1101', '643', '152', '1241', '344', '1320', '212', '345', '257', '852', '1611', '1644', '1115', '264', '1237', '1197'], 'only_title': False}`\n",
      "\n",
      "\n",
      "\u001b[0m\u001b[38;5;200m\u001b[1;3m{'1378': 'movie_title: Rhyme & Reason; release_year: 1997; class: Documentary', '775': 'movie_title: Something to Talk About; release_year: 1995; class: Comedy Drama Romance', '265': 'movie_title: Hunt for Red October, The; release_year: 1990; class: Action Thriller', '1649': 'movie_title: Big One, The; release_year: 1997; class: Comedy Documentary', '1101': 'movie_title: Six Degrees of Separation; release_year: 1993; class: Drama Mystery', '643': 'movie_title: The Innocent; release_year: 1994; class: Drama Romance', '152': 'movie_title: Sleeper; release_year: 1973; class: Comedy Sci-Fi', '1241': 'movie_title: Van, The; release_year: 1996; class: Comedy Drama', '344': 'movie_title: Apostle, The; release_year: 1997; class: Drama', '1320': 'movie_title: Homage; release_year: 1995; class: Drama', '212': 'movie_title: Unbearable Lightness of Being, The; release_year: 1988; class: Drama', '345': 'movie_title: Deconstructing Harry; release_year: 1997; class: Comedy Drama', '257': 'movie_title: Men in Black; release_year: 1997; class: Action Adventure Comedy Sci-Fi', '852': 'movie_title: Bloody Child, The; release_year: 1996; class: Drama Thriller', '1611': 'movie_title: Intimate Relations; release_year: 1996; class: Comedy', '1644': 'movie_title: Sudden Manhattan; release_year: 1996; class: Comedy', '1115': 'movie_title: Twelfth Night; release_year: 1996; class: Comedy Drama Romance', '264': 'movie_title: Mimic; release_year: 1997; class: Sci-Fi Thriller', '1237': 'movie_title: Twisted; release_year: 1996; class: Comedy Drama', '1197': 'movie_title: Family Thing, A; release_year: 1996; class: Comedy Drama'}\u001b[0m\u001b[32;1m\u001b[1;3m\n",
      "Invoking: `ranker_recommender` with `{'prev_interactions': {'172': 'movie_title: Empire Strikes Back, The; release_year: 1980; class: Action Adventure Drama Romance Sci-Fi War', '762': 'movie_title: Beautiful Girls; release_year: 1996; class: Drama', '235': 'movie_title: Mars Attacks!; release_year: 1996; class: Action Comedy Sci-Fi War', '546': 'movie_title: Broken Arrow; release_year: 1996; class: Action Thriller', '750': 'movie_title: Amistad; release_year: 1997; class: Drama', '147': 'movie_title: Long Kiss Goodnight, The; release_year: 1996; class: Action Thriller', '781': 'movie_title: French Kiss; release_year: 1995; class: Comedy Romance', '484': 'movie_title: Maltese Falcon, The; release_year: 1941; class: Film-Noir Mystery', '959': 'movie_title: Dazed and Confused; release_year: 1993; class: Comedy', '39': 'movie_title: Strange Days; release_year: 1995; class: Action Crime Sci-Fi'}, 'candidates': {'1378': 'movie_title: Rhyme & Reason; release_year: 1997; class: Documentary', '775': 'movie_title: Something to Talk About; release_year: 1995; class: Comedy Drama Romance', '265': 'movie_title: Hunt for Red October, The; release_year: 1990; class: Action Thriller', '1649': 'movie_title: Big One, The; release_year: 1997; class: Comedy Documentary', '1101': 'movie_title: Six Degrees of Separation; release_year: 1993; class: Drama Mystery', '643': 'movie_title: The Innocent; release_year: 1994; class: Drama Romance', '152': 'movie_title: Sleeper; release_year: 1973; class: Comedy Sci-Fi', '1241': 'movie_title: Van, The; release_year: 1996; class: Comedy Drama', '344': 'movie_title: Apostle, The; release_year: 1997; class: Drama', '1320': 'movie_title: Homage; release_year: 1995; class: Drama', '212': 'movie_title: Unbearable Lightness of Being, The; release_year: 1988; class: Drama', '345': 'movie_title: Deconstructing Harry; release_year: 1997; class: Comedy Drama', '257': 'movie_title: Men in Black; release_year: 1997; class: Action Adventure Comedy Sci-Fi', '852': 'movie_title: Bloody Child, The; release_year: 1996; class: Drama Thriller', '1611': 'movie_title: Intimate Relations; release_year: 1996; class: Comedy', '1644': 'movie_title: Sudden Manhattan; release_year: 1996; class: Comedy', '1115': 'movie_title: Twelfth Night; release_year: 1996; class: Comedy Drama Romance', '264': 'movie_title: Mimic; release_year: 1997; class: Sci-Fi Thriller', '1237': 'movie_title: Twisted; release_year: 1996; class: Comedy Drama', '1197': 'movie_title: Family Thing, A; release_year: 1996; class: Comedy Drama'}}`\n",
      "\n",
      "\n",
      "\u001b[0m\u001b[33;1m\u001b[1;3m['1378', '775', '265', '1649', '1101', '643', '152', '1241', '344', '1320', '212', '345', '257', '852', '1611', '1644', '1115', '264', '1237', '1197']\u001b[0m\u001b[32;1m\u001b[1;3mThe top 20 candidate items recommended for the user are:\n",
      "\n",
      "1. Rhyme & Reason (1997) - Documentary\n",
      "2. Something to Talk About (1995) - Comedy Drama Romance\n",
      "3. Hunt for Red October, The (1990) - Action Thriller\n",
      "4. Big One, The (1997) - Comedy Documentary\n",
      "5. Six Degrees of Separation (1993) - Drama Mystery\n",
      "6. The Innocent (1994) - Drama Romance\n",
      "7. Sleeper (1973) - Comedy Sci-Fi\n",
      "8. Van, The (1996) - Comedy Drama\n",
      "9. Apostle, The (1997) - Drama\n",
      "10. Homage (1995) - Drama\n",
      "11. Unbearable Lightness of Being, The (1988) - Drama\n",
      "12. Deconstructing Harry (1997) - Comedy Drama\n",
      "13. Men in Black (1997) - Action Adventure Comedy Sci-Fi\n",
      "14. Bloody Child, The (1996) - Drama Thriller\n",
      "15. Intimate Relations (1996) - Comedy\n",
      "16. Sudden Manhattan (1996) - Comedy\n",
      "17. Twelfth Night (1996) - Comedy Drama Romance\n",
      "18. Mimic (1997) - Sci-Fi Thriller\n",
      "19. Twisted (1996) - Comedy Drama\n",
      "20. Family Thing, A (1996) - Comedy Drama\u001b[0m\n",
      "\n",
      "\u001b[1m> Finished chain.\u001b[0m\n"
     ]
    }
   ],
   "source": [
    "response = agent_plan_execute.recommend(user_profile=\"\", prev_interactions=prev_interactions, top_k=config['search_kwargs']['k'])"
   ]
  },
  {
   "cell_type": "code",
   "execution_count": 18,
   "metadata": {},
   "outputs": [
    {
     "data": {
      "text/plain": [
       "'The top 20 candidate items recommended for the user are:\\n\\n1. Rhyme & Reason (1997) - Documentary\\n2. Something to Talk About (1995) - Comedy Drama Romance\\n3. Hunt for Red October, The (1990) - Action Thriller\\n4. Big One, The (1997) - Comedy Documentary\\n5. Six Degrees of Separation (1993) - Drama Mystery\\n6. The Innocent (1994) - Drama Romance\\n7. Sleeper (1973) - Comedy Sci-Fi\\n8. Van, The (1996) - Comedy Drama\\n9. Apostle, The (1997) - Drama\\n10. Homage (1995) - Drama\\n11. Unbearable Lightness of Being, The (1988) - Drama\\n12. Deconstructing Harry (1997) - Comedy Drama\\n13. Men in Black (1997) - Action Adventure Comedy Sci-Fi\\n14. Bloody Child, The (1996) - Drama Thriller\\n15. Intimate Relations (1996) - Comedy\\n16. Sudden Manhattan (1996) - Comedy\\n17. Twelfth Night (1996) - Comedy Drama Romance\\n18. Mimic (1997) - Sci-Fi Thriller\\n19. Twisted (1996) - Comedy Drama\\n20. Family Thing, A (1996) - Comedy Drama'"
      ]
     },
     "execution_count": 18,
     "metadata": {},
     "output_type": "execute_result"
    }
   ],
   "source": [
    "response[0][\"output\"]"
   ]
  },
  {
   "cell_type": "markdown",
   "metadata": {},
   "source": [
    "### First the agent generated the Plan and then followed this plan. The Plan is:"
   ]
  },
  {
   "cell_type": "code",
   "execution_count": 20,
   "metadata": {},
   "outputs": [
    {
     "data": {
      "text/plain": [
       "[\"Retrieve similar candidate items based on user's previous interactions using retrieval_recommender\",\n",
       " 'Map item IDs to their attributes using item_dataset_pair_info',\n",
       " \"Rank candidate items based on user's preferences using ranker_recommender\",\n",
       " 'Return top-ranked candidate items as recommendations for the user']"
      ]
     },
     "execution_count": 20,
     "metadata": {},
     "output_type": "execute_result"
    }
   ],
   "source": [
    "response[1][\"plan\"]"
   ]
  },
  {
   "cell_type": "markdown",
   "metadata": {},
   "source": [
    "_Note_: The output of Agent can be changed, we will not return additional variable of plan. It was done just for the example.\n",
    "\n",
    "The output of the agent will be in the dictionary format, where the answer is in response[\"output\"]"
   ]
  }
 ],
 "metadata": {
  "kernelspec": {
   "display_name": "thesis",
   "language": "python",
   "name": "python3"
  },
  "language_info": {
   "codemirror_mode": {
    "name": "ipython",
    "version": 3
   },
   "file_extension": ".py",
   "mimetype": "text/x-python",
   "name": "python",
   "nbconvert_exporter": "python",
   "pygments_lexer": "ipython3",
   "version": "3.12.2"
  }
 },
 "nbformat": 4,
 "nbformat_minor": 2
}
